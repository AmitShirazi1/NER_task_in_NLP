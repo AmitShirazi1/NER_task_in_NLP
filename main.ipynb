{
 "cells": [
  {
   "cell_type": "markdown",
   "metadata": {},
   "source": [
    "# HW2"
   ]
  },
  {
   "cell_type": "code",
   "execution_count": 5,
   "metadata": {},
   "outputs": [],
   "source": [
    "from gensim import downloader\n",
    "\n",
    "vec_num = 50\n",
    "GLOVE_PATH = f'glove-twitter-{vec_num}'\n",
    "glove_twitter = downloader.load(GLOVE_PATH)\n"
   ]
  },
  {
   "cell_type": "markdown",
   "metadata": {},
   "source": [
    "## Model 1: GloVe"
   ]
  },
  {
   "cell_type": "code",
   "execution_count": 6,
   "metadata": {},
   "outputs": [],
   "source": [
    "import numpy as np\n",
    "\n",
    "def open_and_split_file(file_path):\n",
    "    with open(file_path) as f:\n",
    "        lines = f.readlines()\n",
    "        words = []\n",
    "        tags = []\n",
    "        for line in lines:\n",
    "            try:\n",
    "                word, tag = line.rstrip().split(\"\\t\")\n",
    "                word = word.lower()\n",
    "                if (word not in glove_twitter):\n",
    "                    words.append(np.zeros(vec_num))\n",
    "                else:\n",
    "                    words.append(glove_twitter[word])\n",
    "                tags.append(0 if tag == \"O\" else 1)\n",
    "\n",
    "            except:\n",
    "                continue\n",
    "    return words, tags"
   ]
  },
  {
   "cell_type": "code",
   "execution_count": 7,
   "metadata": {},
   "outputs": [],
   "source": [
    "train_words, train_labels = open_and_split_file(\"/home/student/hw2/NER_task_in_NLP/data/train.tagged\")"
   ]
  },
  {
   "cell_type": "code",
   "execution_count": 8,
   "metadata": {},
   "outputs": [],
   "source": [
    "dev_words, dev_labels = open_and_split_file(\"/home/student/hw2/NER_task_in_NLP/data/dev.tagged\")"
   ]
  },
  {
   "cell_type": "code",
   "execution_count": 9,
   "metadata": {},
   "outputs": [
    {
     "name": "stderr",
     "output_type": "stream",
     "text": [
      "/anaconda/envs/azureml_py38/lib/python3.8/site-packages/sklearn/neighbors/_classification.py:228: FutureWarning: Unlike other reduction functions (e.g. `skew`, `kurtosis`), the default behavior of `mode` typically preserves the axis it acts along. In SciPy 1.11.0, this behavior will change: the default value of `keepdims` will become False, the `axis` over which the statistic is taken will be eliminated, and the value None will no longer be accepted. Set `keepdims` to True or False to avoid this warning.\n",
      "  mode, _ = stats.mode(_y[neigh_ind, k], axis=1)\n"
     ]
    },
    {
     "data": {
      "text/plain": [
       "0.5860995850622407"
      ]
     },
     "execution_count": 9,
     "metadata": {},
     "output_type": "execute_result"
    }
   ],
   "source": [
    "from sklearn.neighbors import KNeighborsClassifier\n",
    "\n",
    "knn = KNeighborsClassifier(n_neighbors=9)\n",
    "knn.fit(train_words, train_labels)\n",
    "y_pred = knn.predict(dev_words)\n",
    "\n",
    "from sklearn.metrics import f1_score\n",
    "f1_score(dev_labels, y_pred)"
   ]
  },
  {
   "cell_type": "markdown",
   "metadata": {},
   "source": [
    "## Model 2: Feed Forward"
   ]
  },
  {
   "cell_type": "code",
   "execution_count": 75,
   "metadata": {},
   "outputs": [],
   "source": [
    "import torch\n",
    "import torch.nn as nn\n",
    "import torchvision.transforms as transforms\n",
    "from torch.utils.data import Dataset\n",
    "from torch.optim import Adam\n",
    "from sklearn.metrics import f1_score"
   ]
  },
  {
   "cell_type": "code",
   "execution_count": 67,
   "metadata": {},
   "outputs": [],
   "source": [
    "class CustomDataset(Dataset):\n",
    "    def __init__(self, path):\n",
    "        # Create a path-to-label dictionary\n",
    "        with open(path) as f:\n",
    "            lines = f.readlines()\n",
    "            words = []\n",
    "            tags = []\n",
    "            for line in lines:\n",
    "                try:\n",
    "                    word, tag = line.rstrip().split(\"\\t\")\n",
    "                    word = word.lower()\n",
    "                    if (word not in glove_twitter):\n",
    "                        words.append(np.zeros(vec_num))\n",
    "                    else:\n",
    "                        words.append(glove_twitter[word])\n",
    "                    tags.append(0 if tag == \"O\" else 1)\n",
    "\n",
    "                except:\n",
    "                    continue\n",
    "        self.words = words\n",
    "        self.tags = tags\n",
    "\n",
    "    def __len__(self):\n",
    "        return len(self.words)\n",
    "\n",
    "    def __getitem__(self, index):\n",
    "        word = self.words[index]\n",
    "        tag = self.tags[index]\n",
    "        word = torch.FloatTensor(word).squeeze()\n",
    "        data = {\"word\": word, \"labels\": tag}\n",
    "        return data"
   ]
  },
  {
   "cell_type": "code",
   "execution_count": 68,
   "metadata": {},
   "outputs": [],
   "source": [
    "train_dataset = CustomDataset(path=\"/home/student/hw2/NER_task_in_NLP/data/train.tagged\")\n",
    "dev_dataset = CustomDataset(path=\"/home/student/hw2/NER_task_in_NLP/data/dev.tagged\")\n",
    "datasets = {\"train\": train_dataset, \"dev\": dev_dataset}"
   ]
  },
  {
   "cell_type": "code",
   "execution_count": 69,
   "metadata": {},
   "outputs": [],
   "source": [
    "class FeedForwardNN(nn.Module):\n",
    "    def __init__(self, vec_dim, num_classes, hidden_dim=100):\n",
    "        super(FeedForwardNN, self).__init__()\n",
    "        self.first_layer = nn.Linear(vec_dim, hidden_dim)\n",
    "        self.second_layer = nn.Linear(hidden_dim, num_classes)\n",
    "        self.activation = nn.ReLU()\n",
    "        self.loss = nn.CrossEntropyLoss()\n",
    "\n",
    "    def forward(self, word, labels=None):\n",
    "        x = self.first_layer(word)\n",
    "        x = self.activation(x)\n",
    "        x = self.second_layer(x)\n",
    "        if labels is None:\n",
    "            return x, None\n",
    "        loss = self.loss(x, labels)\n",
    "        return x, loss"
   ]
  },
  {
   "cell_type": "code",
   "execution_count": 70,
   "metadata": {},
   "outputs": [],
   "source": [
    "from sklearn.metrics import accuracy_score, f1_score\n",
    "from torch.utils.data import DataLoader\n",
    "\n",
    "def train(model, data_sets, optimizer, num_epochs: int, batch_size=16):\n",
    "    device = torch.device('cuda' if torch.cuda.is_available() else 'cpu')\n",
    "    data_loaders = {\"train\": DataLoader(data_sets[\"train\"], batch_size=batch_size, shuffle=True),\n",
    "                    \"dev\": DataLoader(data_sets[\"dev\"], batch_size=batch_size, shuffle=False)}\n",
    "    model.to(device)\n",
    "\n",
    "    best_acc = 0.0\n",
    "\n",
    "    for epoch in range(num_epochs):\n",
    "        model.train()\n",
    "\n",
    "        for batch in data_loaders['train']:\n",
    "            batch_size = 0\n",
    "            for k, v in batch.items():\n",
    "                batch[k] = v.to(device)\n",
    "                batch_size = v.shape[0]\n",
    "\n",
    "            optimizer.zero_grad()\n",
    "            _, loss = model(**batch)\n",
    "            loss.backward()  # The important part\n",
    "            optimizer.step()\n",
    "                \n",
    "    # Now use the dev dataset to evaluate the model.\n",
    "    model.eval()\n",
    "    predictions = torch.tensor([])\n",
    "    tags = torch.tensor([])\n",
    "    for batch in data_loaders['dev']:\n",
    "        batch_size = 0\n",
    "        for k, v in batch.items():\n",
    "            batch[k] = v.to(device)\n",
    "            batch_size = v.shape[0]\n",
    "\n",
    "        optimizer.zero_grad()    \n",
    "        with torch.no_grad():\n",
    "            outputs, _ = model(**batch) \n",
    "            pred = outputs.argmax(dim=-1).clone().detach().cpu()\n",
    "            predictions = torch.cat((predictions, pred), 0)\n",
    "        tags = torch.cat((tags, (batch[\"labels\"].clone().detach().cpu())), 0)\n",
    "\n",
    "    score = f1_score(tags, predictions)\n",
    "    print(f'F1 score: {score}')\n",
    "                \n",
    "    # with open('model.pkl', 'rb') as f:\n",
    "    #     model = torch.load(f)\n",
    "    return model"
   ]
  },
  {
   "cell_type": "code",
   "execution_count": 76,
   "metadata": {},
   "outputs": [
    {
     "name": "stdout",
     "output_type": "stream",
     "text": [
      "F1 score: 0.6101190476190477\n",
      "\n"
     ]
    }
   ],
   "source": [
    "# Hyper-parameters that we can change:\n",
    "# hidden_dim: the dimension of the hidden layer\n",
    "# num_epochs: the number of epochs to train the model\n",
    "# learning_rate: the learning rate of the optimizer (Adam) - find out more about it in the documentation.\n",
    "model = FeedForwardNN(vec_num, 2, hidden_dim=int(vec_num*2))\n",
    "optimizer = Adam(params=model.parameters())\n",
    "model = train(model=model, data_sets=datasets, optimizer=optimizer, num_epochs=15)\n",
    "print()"
   ]
  },
  {
   "cell_type": "markdown",
   "metadata": {},
   "source": [
    "## Model 3: LSTM"
   ]
  },
  {
   "cell_type": "code",
   "execution_count": 79,
   "metadata": {},
   "outputs": [],
   "source": [
    "# Initialize the embedding matrix according to the glove from earlier.\n",
    "embedding_mat = np.array(train_words)"
   ]
  },
  {
   "cell_type": "code",
   "execution_count": null,
   "metadata": {},
   "outputs": [],
   "source": [
    "class MyNet(nn.Module):\n",
    "    def __init__(self, embedding_mat, embedding_dim, hidden_dim=50, tag_dim=2):\n",
    "        super().__init__()\n",
    "        self.embedding_dim = embedding_dim\n",
    "        self.hidden_dim = hidden_dim\n",
    "        self.word_embedding = nn.Embedding.from_pretrained(embedding_mat, freeze=True)\n",
    "        self.lstm = nn.LSTM(self.embedding_dim, self.hidden_dim, batch_first=True)\n",
    "        self.hidden2tag = nn.Sequential(nn.ReLU(),\n",
    "                                        nn.Linear(self.hidden_dim, tag_dim))\n",
    "        self.loss_fn = nn.NLLLoss()\n",
    "\n",
    "    def forward(self, word, sentence_len, tags=None):\n",
    "        embeds = self.word_embedding(word)  # TODO: Check if this is the correct way to use the embedding\n",
    "        lstm_out, _ = self.lstm(embeds.view(1, -1, self.embedding_dim))\n",
    "        tag_space = self.hidden2tag(lstm_out[range(len(sentence)), sentence_len - 1, :])\n",
    "        tag_score = F.softmax(tag_space, dim=1)\n",
    "        if tags is None:\n",
    "            return tag_score, None\n",
    "        loss = self.loss_fn(tag_score, tags)\n",
    "        return tag_score, loss"
   ]
  },
  {
   "cell_type": "markdown",
   "metadata": {},
   "source": [
    "## Old code"
   ]
  },
  {
   "cell_type": "code",
   "execution_count": 3,
   "metadata": {},
   "outputs": [],
   "source": [
    "def create_glove_vector_old(word, data):\n",
    "    temp_word = False\n",
    "    if word not in glove_twitter.key_to_index:\n",
    "        # print(f\"{word} not an existing word in the model\")\n",
    "        # if you dont have this word - just skip it\n",
    "        # return False\n",
    "        \n",
    "        if word.startswith(\"http\"):\n",
    "            # all links in train data are tagged O\n",
    "            data.append(np.zeros(vec_dim))\n",
    "            return\n",
    "        \n",
    "        try:\n",
    "            # check if word is a number\n",
    "            float(word)\n",
    "            data.append(np.zeros(vec_dim))\n",
    "            return\n",
    "        except:\n",
    "            pass\n",
    "    \n",
    "        # try stemming\n",
    "        for i in range(min(len(word), 5)):\n",
    "            if word[i:] in glove_twitter.key_to_index:\n",
    "                temp_word = word[i:]\n",
    "                break\n",
    "            for j in range(1, min(len(word), 5)):\n",
    "                if word[i:-j] in glove_twitter.key_to_index:\n",
    "                    temp_word = word[i:-j]\n",
    "                    break\n",
    "\n",
    "    else:\n",
    "        temp_word = word\n",
    "\n",
    "\n",
    "    if temp_word:\n",
    "        vec = glove_twitter[temp_word]\n",
    "        data.append(vec)\n",
    "\n",
    "    else:\n",
    "        data.append(np.zeros(vec_dim))\n",
    "        # print(word)\n",
    "    "
   ]
  },
  {
   "cell_type": "code",
   "execution_count": 6,
   "metadata": {},
   "outputs": [],
   "source": [
    "with open(\"/home/student/hw2/NER_task_in_NLP/data/train.tagged\") as f:\n",
    "    lines = f.readlines()\n",
    "    words_count = 0\n",
    "    prev_word = ''\n",
    "    for i, line in enumerate(lines):\n",
    "        try:\n",
    "            word, tag = line.rstrip().split(\"\\t\")\n",
    "            words_count += 1\n",
    "            if  (word.startswith('http')):\n",
    "                # print(tag)\n",
    "                if tag != 'O': #and lines[i+1].rstrip().split('\\t')[0] == ':':\n",
    "                    print(\"yes\")\n",
    "                    print(word)\n",
    "            #if line[i-1] != \"\\t\\n\" and \"@\" in word:#  \\\n",
    "            #and line[i-1].rstrip().split(\"\\t\")[0] == \"RT\" and line[i+1].rstrip().split(\"\\t\")[0] == \":\":\n",
    "                # print(line[i-1])\n",
    "                #pass\n",
    "\n",
    "        except:\n",
    "            # print(line.rstrip().split(\"\\t\"))\n",
    "            # # print(line)\n",
    "            # print([line])\n",
    "            # ! the line is blank representing \\t\\n\n",
    "            # TODO thingy for end of sentence\n",
    "            prev_word = ''\n",
    "            continue\n",
    "        prev_word = word"
   ]
  }
 ],
 "metadata": {
  "kernelspec": {
   "display_name": "py38_default",
   "language": "python",
   "name": "python3"
  },
  "language_info": {
   "codemirror_mode": {
    "name": "ipython",
    "version": 3
   },
   "file_extension": ".py",
   "mimetype": "text/x-python",
   "name": "python",
   "nbconvert_exporter": "python",
   "pygments_lexer": "ipython3",
   "version": "3.8.18"
  }
 },
 "nbformat": 4,
 "nbformat_minor": 2
}
